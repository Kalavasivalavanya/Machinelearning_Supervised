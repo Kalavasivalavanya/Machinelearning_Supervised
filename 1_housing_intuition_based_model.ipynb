{
  "cells": [
    {
      "cell_type": "markdown",
      "metadata": {
        "id": "2Wi28DsUMiXU"
      },
      "source": [
        "# Predicting values\n",
        "\n",
        "This notebooks aims to help on starting with ML using the [housing dataset](https://platform.wbscodingschool.com/courses/data-science/12667/). Take a look at the [platform](https://platform.wbscodingschool.com/courses/data-science/14402/) before starting with task.\n",
        "\n",
        "The goal is to create a simple model using some basic EDA, apply it to our housing data and calculating the performance of it."
      ]
    },
    {
      "cell_type": "code",
      "execution_count": null,
      "metadata": {
        "id": "Ga_be9ffMiXc"
      },
      "outputs": [],
      "source": [
        "import pandas as pd\n",
        "housing = pd.read_csv('https://raw.githubusercontent.com/JoanClaverol/housing_data/main/housing-classification-iter-0-2.csv')"
      ]
    },
    {
      "cell_type": "markdown",
      "metadata": {
        "id": "WEIHSgoeMiXf"
      },
      "source": [
        "## Initial exploration"
      ]
    },
    {
      "cell_type": "markdown",
      "metadata": {
        "id": "DqdHe6QQMiXg"
      },
      "source": [
        "What columns exist on this data? What are their data types?"
      ]
    },
    {
      "cell_type": "code",
      "execution_count": null,
      "metadata": {
        "id": "5e363doiMiXh",
        "colab": {
          "base_uri": "https://localhost:8080/",
          "height": 206
        },
        "outputId": "37dd801f-f9e1-44ac-f011-3623e8898ac0"
      },
      "outputs": [
        {
          "output_type": "execute_result",
          "data": {
            "text/plain": [
              "      LotArea  LotFrontage  TotalBsmtSF  BedroomAbvGr  Fireplaces  PoolArea  \\\n",
              "1455     7917         62.0          953             3           1         0   \n",
              "1456    13175         85.0         1542             3           2         0   \n",
              "1457     9042         66.0         1152             4           2         0   \n",
              "1458     9717         68.0         1078             2           0         0   \n",
              "1459     9937         75.0         1256             3           0         0   \n",
              "\n",
              "      GarageCars  WoodDeckSF  ScreenPorch  Expensive  \n",
              "1455           2           0            0          0  \n",
              "1456           2         349            0          0  \n",
              "1457           1           0            0          1  \n",
              "1458           1         366            0          0  \n",
              "1459           1         736            0          0  "
            ],
            "text/html": [
              "\n",
              "  <div id=\"df-9a4e7513-7419-46ac-99f9-abac7b9f0825\">\n",
              "    <div class=\"colab-df-container\">\n",
              "      <div>\n",
              "<style scoped>\n",
              "    .dataframe tbody tr th:only-of-type {\n",
              "        vertical-align: middle;\n",
              "    }\n",
              "\n",
              "    .dataframe tbody tr th {\n",
              "        vertical-align: top;\n",
              "    }\n",
              "\n",
              "    .dataframe thead th {\n",
              "        text-align: right;\n",
              "    }\n",
              "</style>\n",
              "<table border=\"1\" class=\"dataframe\">\n",
              "  <thead>\n",
              "    <tr style=\"text-align: right;\">\n",
              "      <th></th>\n",
              "      <th>LotArea</th>\n",
              "      <th>LotFrontage</th>\n",
              "      <th>TotalBsmtSF</th>\n",
              "      <th>BedroomAbvGr</th>\n",
              "      <th>Fireplaces</th>\n",
              "      <th>PoolArea</th>\n",
              "      <th>GarageCars</th>\n",
              "      <th>WoodDeckSF</th>\n",
              "      <th>ScreenPorch</th>\n",
              "      <th>Expensive</th>\n",
              "    </tr>\n",
              "  </thead>\n",
              "  <tbody>\n",
              "    <tr>\n",
              "      <th>1455</th>\n",
              "      <td>7917</td>\n",
              "      <td>62.0</td>\n",
              "      <td>953</td>\n",
              "      <td>3</td>\n",
              "      <td>1</td>\n",
              "      <td>0</td>\n",
              "      <td>2</td>\n",
              "      <td>0</td>\n",
              "      <td>0</td>\n",
              "      <td>0</td>\n",
              "    </tr>\n",
              "    <tr>\n",
              "      <th>1456</th>\n",
              "      <td>13175</td>\n",
              "      <td>85.0</td>\n",
              "      <td>1542</td>\n",
              "      <td>3</td>\n",
              "      <td>2</td>\n",
              "      <td>0</td>\n",
              "      <td>2</td>\n",
              "      <td>349</td>\n",
              "      <td>0</td>\n",
              "      <td>0</td>\n",
              "    </tr>\n",
              "    <tr>\n",
              "      <th>1457</th>\n",
              "      <td>9042</td>\n",
              "      <td>66.0</td>\n",
              "      <td>1152</td>\n",
              "      <td>4</td>\n",
              "      <td>2</td>\n",
              "      <td>0</td>\n",
              "      <td>1</td>\n",
              "      <td>0</td>\n",
              "      <td>0</td>\n",
              "      <td>1</td>\n",
              "    </tr>\n",
              "    <tr>\n",
              "      <th>1458</th>\n",
              "      <td>9717</td>\n",
              "      <td>68.0</td>\n",
              "      <td>1078</td>\n",
              "      <td>2</td>\n",
              "      <td>0</td>\n",
              "      <td>0</td>\n",
              "      <td>1</td>\n",
              "      <td>366</td>\n",
              "      <td>0</td>\n",
              "      <td>0</td>\n",
              "    </tr>\n",
              "    <tr>\n",
              "      <th>1459</th>\n",
              "      <td>9937</td>\n",
              "      <td>75.0</td>\n",
              "      <td>1256</td>\n",
              "      <td>3</td>\n",
              "      <td>0</td>\n",
              "      <td>0</td>\n",
              "      <td>1</td>\n",
              "      <td>736</td>\n",
              "      <td>0</td>\n",
              "      <td>0</td>\n",
              "    </tr>\n",
              "  </tbody>\n",
              "</table>\n",
              "</div>\n",
              "      <button class=\"colab-df-convert\" onclick=\"convertToInteractive('df-9a4e7513-7419-46ac-99f9-abac7b9f0825')\"\n",
              "              title=\"Convert this dataframe to an interactive table.\"\n",
              "              style=\"display:none;\">\n",
              "        \n",
              "  <svg xmlns=\"http://www.w3.org/2000/svg\" height=\"24px\"viewBox=\"0 0 24 24\"\n",
              "       width=\"24px\">\n",
              "    <path d=\"M0 0h24v24H0V0z\" fill=\"none\"/>\n",
              "    <path d=\"M18.56 5.44l.94 2.06.94-2.06 2.06-.94-2.06-.94-.94-2.06-.94 2.06-2.06.94zm-11 1L8.5 8.5l.94-2.06 2.06-.94-2.06-.94L8.5 2.5l-.94 2.06-2.06.94zm10 10l.94 2.06.94-2.06 2.06-.94-2.06-.94-.94-2.06-.94 2.06-2.06.94z\"/><path d=\"M17.41 7.96l-1.37-1.37c-.4-.4-.92-.59-1.43-.59-.52 0-1.04.2-1.43.59L10.3 9.45l-7.72 7.72c-.78.78-.78 2.05 0 2.83L4 21.41c.39.39.9.59 1.41.59.51 0 1.02-.2 1.41-.59l7.78-7.78 2.81-2.81c.8-.78.8-2.07 0-2.86zM5.41 20L4 18.59l7.72-7.72 1.47 1.35L5.41 20z\"/>\n",
              "  </svg>\n",
              "      </button>\n",
              "      \n",
              "  <style>\n",
              "    .colab-df-container {\n",
              "      display:flex;\n",
              "      flex-wrap:wrap;\n",
              "      gap: 12px;\n",
              "    }\n",
              "\n",
              "    .colab-df-convert {\n",
              "      background-color: #E8F0FE;\n",
              "      border: none;\n",
              "      border-radius: 50%;\n",
              "      cursor: pointer;\n",
              "      display: none;\n",
              "      fill: #1967D2;\n",
              "      height: 32px;\n",
              "      padding: 0 0 0 0;\n",
              "      width: 32px;\n",
              "    }\n",
              "\n",
              "    .colab-df-convert:hover {\n",
              "      background-color: #E2EBFA;\n",
              "      box-shadow: 0px 1px 2px rgba(60, 64, 67, 0.3), 0px 1px 3px 1px rgba(60, 64, 67, 0.15);\n",
              "      fill: #174EA6;\n",
              "    }\n",
              "\n",
              "    [theme=dark] .colab-df-convert {\n",
              "      background-color: #3B4455;\n",
              "      fill: #D2E3FC;\n",
              "    }\n",
              "\n",
              "    [theme=dark] .colab-df-convert:hover {\n",
              "      background-color: #434B5C;\n",
              "      box-shadow: 0px 1px 3px 1px rgba(0, 0, 0, 0.15);\n",
              "      filter: drop-shadow(0px 1px 2px rgba(0, 0, 0, 0.3));\n",
              "      fill: #FFFFFF;\n",
              "    }\n",
              "  </style>\n",
              "\n",
              "      <script>\n",
              "        const buttonEl =\n",
              "          document.querySelector('#df-9a4e7513-7419-46ac-99f9-abac7b9f0825 button.colab-df-convert');\n",
              "        buttonEl.style.display =\n",
              "          google.colab.kernel.accessAllowed ? 'block' : 'none';\n",
              "\n",
              "        async function convertToInteractive(key) {\n",
              "          const element = document.querySelector('#df-9a4e7513-7419-46ac-99f9-abac7b9f0825');\n",
              "          const dataTable =\n",
              "            await google.colab.kernel.invokeFunction('convertToInteractive',\n",
              "                                                     [key], {});\n",
              "          if (!dataTable) return;\n",
              "\n",
              "          const docLinkHtml = 'Like what you see? Visit the ' +\n",
              "            '<a target=\"_blank\" href=https://colab.research.google.com/notebooks/data_table.ipynb>data table notebook</a>'\n",
              "            + ' to learn more about interactive tables.';\n",
              "          element.innerHTML = '';\n",
              "          dataTable['output_type'] = 'display_data';\n",
              "          await google.colab.output.renderOutput(dataTable, element);\n",
              "          const docLink = document.createElement('div');\n",
              "          docLink.innerHTML = docLinkHtml;\n",
              "          element.appendChild(docLink);\n",
              "        }\n",
              "      </script>\n",
              "    </div>\n",
              "  </div>\n",
              "  "
            ]
          },
          "metadata": {},
          "execution_count": 9
        }
      ],
      "source": [
        "housing.tail()"
      ]
    },
    {
      "cell_type": "code",
      "source": [
        "housing['LotArea'].mean()"
      ],
      "metadata": {
        "colab": {
          "base_uri": "https://localhost:8080/"
        },
        "id": "IWUm5AmUBD0e",
        "outputId": "d4ebca47-4a5f-4db8-9543-f3829d3832cd"
      },
      "execution_count": null,
      "outputs": [
        {
          "output_type": "execute_result",
          "data": {
            "text/plain": [
              "10516.828082191782"
            ]
          },
          "metadata": {},
          "execution_count": 3
        }
      ]
    },
    {
      "cell_type": "markdown",
      "metadata": {
        "id": "yNz1t6W4MiXh"
      },
      "source": [
        "Do we have missing values on this dataset?"
      ]
    },
    {
      "cell_type": "code",
      "execution_count": null,
      "metadata": {
        "id": "AJFqgxYVMiXi",
        "colab": {
          "base_uri": "https://localhost:8080/"
        },
        "outputId": "05c5e591-6527-4cb3-9a39-7e550fb2fe2a"
      },
      "outputs": [
        {
          "output_type": "execute_result",
          "data": {
            "text/plain": [
              "LotArea           0\n",
              "LotFrontage     259\n",
              "TotalBsmtSF       0\n",
              "BedroomAbvGr      0\n",
              "Fireplaces        0\n",
              "PoolArea          0\n",
              "GarageCars        0\n",
              "WoodDeckSF        0\n",
              "ScreenPorch       0\n",
              "Expensive         0\n",
              "dtype: int64"
            ]
          },
          "metadata": {},
          "execution_count": 4
        }
      ],
      "source": [
        "housing.isna().sum()"
      ]
    },
    {
      "cell_type": "markdown",
      "metadata": {
        "id": "5QPbEh_5MiXj"
      },
      "source": [
        "Do we have duplicated information?"
      ]
    },
    {
      "cell_type": "code",
      "execution_count": null,
      "metadata": {
        "id": "yMjJRq8vMiXk",
        "colab": {
          "base_uri": "https://localhost:8080/"
        },
        "outputId": "f6bdef1e-23ea-4fcf-c8c9-e3b910195127"
      },
      "outputs": [
        {
          "output_type": "execute_result",
          "data": {
            "text/plain": [
              "True"
            ]
          },
          "metadata": {},
          "execution_count": 5
        }
      ],
      "source": [
        "housing.duplicated().any()"
      ]
    },
    {
      "cell_type": "markdown",
      "metadata": {
        "id": "WW2TMgyTMiXk"
      },
      "source": [
        "Is there any column that helps us identify if a house is expensive or not?"
      ]
    },
    {
      "cell_type": "code",
      "execution_count": null,
      "metadata": {
        "id": "u-HFDH0CMiXl",
        "colab": {
          "base_uri": "https://localhost:8080/"
        },
        "outputId": "a5169da7-a16f-4280-da20-82c0b57c1bae"
      },
      "outputs": [
        {
          "output_type": "execute_result",
          "data": {
            "text/plain": [
              "10516.828082191782"
            ]
          },
          "metadata": {},
          "execution_count": 6
        }
      ],
      "source": [
        "housing['LotArea'].mean()"
      ]
    },
    {
      "cell_type": "markdown",
      "metadata": {
        "id": "JEJ-72coMiXm"
      },
      "source": [
        "## Create your first model"
      ]
    },
    {
      "cell_type": "markdown",
      "metadata": {
        "id": "7UnXeBb1MiXm"
      },
      "source": [
        "Based on the previous exploration, you have found some column that have some relation to the price of a house. Now it's your turn to create a python function to classify if a house is going to be expensive (`1`) or not (`0`). Read the following article on the [platform](https://platform.wbscodingschool.com/courses/data-science/14406/) to understand more about this process.\n",
        "\n",
        "What are the predictions of your model?"
      ]
    },
    {
      "cell_type": "code",
      "source": [
        "housing_t = housing.copy()\n",
        "y = housing_t.pop(\"Expensive\")\n",
        "X = housing_t"
      ],
      "metadata": {
        "id": "9ETDy0_jCCN2"
      },
      "execution_count": null,
      "outputs": []
    },
    {
      "cell_type": "code",
      "source": [
        "from sklearn.model_selection import train_test_split\n",
        "X_train, X_test, y_train, y_test = train_test_split(X, y, test_size=0.2, random_state=31416)"
      ],
      "metadata": {
        "id": "0JIquXH2CL4M"
      },
      "execution_count": null,
      "outputs": []
    },
    {
      "cell_type": "code",
      "source": [
        "# your code here\n",
        "def area_model(df):\n",
        "    newdf = df.assign(prediction = 0)\n",
        "    newdf.loc[housing.LotArea >= housing['LotArea'].mean(), \"prediction\"] = 1\n",
        "    return newdf.prediction.tolist()\n",
        "\n",
        "pred_area_train = area_model(X_train)\n",
        "\n",
        "from sklearn.metrics import accuracy_score\n",
        "accuracy_score(y_true = y_train,\n",
        "               y_pred = pred_area_train\n",
        "              )"
      ],
      "metadata": {
        "colab": {
          "base_uri": "https://localhost:8080/"
        },
        "id": "CWq220pgCXvz",
        "outputId": "66b6c3c3-7a0b-4147-89c0-34e4b470d6f0"
      },
      "execution_count": null,
      "outputs": [
        {
          "output_type": "execute_result",
          "data": {
            "text/plain": [
              "0.7054794520547946"
            ]
          },
          "metadata": {},
          "execution_count": 11
        }
      ]
    },
    {
      "cell_type": "markdown",
      "metadata": {
        "id": "To7rZ7eKMiXo"
      },
      "source": [
        "## Evaluate its performance"
      ]
    },
    {
      "cell_type": "markdown",
      "metadata": {
        "id": "aW9Dv0KuMiXo"
      },
      "source": [
        "How can we evaluate our model? Is there a way to check the performance of it?"
      ]
    },
    {
      "cell_type": "code",
      "execution_count": null,
      "metadata": {
        "id": "2_heMJ7xMiXp",
        "colab": {
          "base_uri": "https://localhost:8080/"
        },
        "outputId": "98eb4d62-c68c-4a07-ba75-c700c85dd153"
      },
      "outputs": [
        {
          "output_type": "execute_result",
          "data": {
            "text/plain": [
              "0.7226027397260274"
            ]
          },
          "metadata": {},
          "execution_count": 12
        }
      ],
      "source": [
        "pred_area_test = area_model(X_test)\n",
        "accuracy_score(y_true = y_test,\n",
        "               y_pred = pred_area_test\n",
        "              )"
      ]
    },
    {
      "cell_type": "markdown",
      "source": [
        "It seems the model has low variance but high bias"
      ],
      "metadata": {
        "id": "pAPZ8CrqDFs9"
      }
    }
  ],
  "metadata": {
    "interpreter": {
      "hash": "0c0d8ad48df51219c450d59b92b97c724e0c0d4bf0231891a4da4e49c179fad8"
    },
    "kernelspec": {
      "display_name": "Python 3.9.7 ('base')",
      "language": "python",
      "name": "python3"
    },
    "language_info": {
      "codemirror_mode": {
        "name": "ipython",
        "version": 3
      },
      "file_extension": ".py",
      "mimetype": "text/x-python",
      "name": "python",
      "nbconvert_exporter": "python",
      "pygments_lexer": "ipython3",
      "version": "3.9.7"
    },
    "orig_nbformat": 4,
    "colab": {
      "provenance": []
    }
  },
  "nbformat": 4,
  "nbformat_minor": 0
}